{
  "nbformat": 4,
  "nbformat_minor": 0,
  "metadata": {
    "kernelspec": {
      "display_name": "Python 3",
      "language": "python",
      "name": "python3"
    },
    "language_info": {
      "codemirror_mode": {
        "name": "ipython",
        "version": 3
      },
      "file_extension": ".py",
      "mimetype": "text/x-python",
      "name": "python",
      "nbconvert_exporter": "python",
      "pygments_lexer": "ipython3",
      "version": "3.7.3"
    },
    "colab": {
      "name": "Cópia de Aula5.ipynb",
      "provenance": [],
      "collapsed_sections": [],
      "include_colab_link": true
    }
  },
  "cells": [
    {
      "cell_type": "markdown",
      "metadata": {
        "id": "view-in-github",
        "colab_type": "text"
      },
      "source": [
        "<a href=\"https://colab.research.google.com/github/P-Faria/LComp-TP/blob/main/Aula5.ipynb\" target=\"_parent\"><img src=\"https://colab.research.google.com/assets/colab-badge.svg\" alt=\"Open In Colab\"/></a>"
      ]
    },
    {
      "cell_type": "markdown",
      "metadata": {
        "id": "0smre93qHCuV"
      },
      "source": [
        "# Grafos de fluxos\n",
        "\n",
        "Na sua versão mais simples, um *grafo de fluxos* é um grafo orientado onde cada aresta modela uma \"conduta\" onde pode fluir \"alguma coisa\" (gás, água, trânsito automóvel, etc) sujeita a uma capacidade máxima. Mais em informação em https://en.wikipedia.org/wiki/Flow_network.\n",
        "\n",
        "Usando o `networkx` podemos modelar um grafo de fluxos usando um `DiGraph` (*directed graph*), usando atributos adicionais para representar a capacidade máxima de cada arco e o respectivo fluxo efectivo. Por exemplo, o seguinte código cria um grafo de fluxos com 6 nodos e 10 arcos."
      ]
    },
    {
      "cell_type": "code",
      "metadata": {
        "id": "o7t4o2BHHCuW"
      },
      "source": [
        "import networkx as nx\n",
        "\n",
        "graph = nx.DiGraph()\n",
        "graph.add_edge(0,1,capacity=16)\n",
        "graph.add_edge(0,2,capacity=13)\n",
        "graph.add_edge(1,2,capacity=10)\n",
        "graph.add_edge(1,3,capacity=12)\n",
        "graph.add_edge(2,1,capacity=4)\n",
        "graph.add_edge(2,4,capacity=14)\n",
        "graph.add_edge(3,2,capacity=9)\n",
        "graph.add_edge(3,5,capacity=20)\n",
        "graph.add_edge(4,3,capacity=7)\n",
        "graph.add_edge(4,5,capacity=4)"
      ],
      "execution_count": null,
      "outputs": []
    },
    {
      "cell_type": "markdown",
      "metadata": {
        "id": "6IBK7ZmfHCuW"
      },
      "source": [
        "Podemos desenhar este grafo de fluxos usando a seguinte função que assume que o grafo é planar e que coloca como fluxo efectivo o caracter `?` caso este atributo não esteja definido."
      ]
    },
    {
      "cell_type": "code",
      "metadata": {
        "id": "qEU6Gv4qHCuX",
        "colab": {
          "base_uri": "https://localhost:8080/",
          "height": 248
        },
        "outputId": "8d57251f-92e4-4900-b150-b69478524acb"
      },
      "source": [
        "def draw_flow_network(graph):\n",
        "    pos = nx.planar_layout(graph)\n",
        "    labels = {}\n",
        "    for (o,d) in graph.edges():\n",
        "        if 'flow' in graph[o][d]:\n",
        "            labels[(o,d)] = str(graph[o][d]['flow']) + ' / ' + str(graph[o][d]['capacity'])\n",
        "        else:\n",
        "            labels[(o,d)] = '? / ' + str(graph[o][d]['capacity'])                        \n",
        "    nx.draw_networkx(graph,pos)\n",
        "    nx.draw_networkx_edge_labels(graph,pos,labels,label_pos=0.3)\n",
        "\n",
        "\n",
        "draw_flow_network(graph)"
      ],
      "execution_count": null,
      "outputs": [
        {
          "output_type": "display_data",
          "data": {
            "image/png": "[encoded data removed]",
            "text/plain": [
              "<Figure size 432x288 with 1 Axes>"
            ]
          },
          "metadata": {}
        }
      ]
    },
    {
      "cell_type": "markdown",
      "metadata": {
        "id": "RRpbLk8-HCuX"
      },
      "source": [
        "## Max-flow\n",
        "\n",
        "Um dos problemas clássicos com grafos de fluxos consiste em determinar qual o fluxo máximo que pode existir entre dois nodos concretos do grafo.\n",
        "\n",
        "Usando programação inteira mista (com variáveis inteiras e reais) podemos determinar este fluxo máximo da seguinte forma.\n",
        "\n",
        "Mais uma vez usaremos a biblioteca [OR-Tools](https://developers.google.com/optimization) para fazer a interface para o SCIP. Esta biblioteca pode ser instalada com o commando `pip install ortools`."
      ]
    },
    {
      "cell_type": "code",
      "metadata": {
        "id": "9LHFM4FahyD9",
        "colab": {
          "base_uri": "https://localhost:8080/",
          "height": 526
        },
        "outputId": "2768d21c-245e-4166-c19a-458608bc8df5"
      },
      "source": [
        "!pip install ortools"
      ],
      "execution_count": null,
      "outputs": [
        {
          "output_type": "stream",
          "name": "stdout",
          "text": [
            "Collecting ortools\n",
            "  Downloading ortools-9.1.9490-cp37-cp37m-manylinux_2_17_x86_64.manylinux2014_x86_64.whl (14.5 MB)\n",
            "\u001b[K     |████████████████████████████████| 14.5 MB 90 kB/s \n",
            "\u001b[?25hCollecting protobuf>=3.18.0\n",
            "  Downloading protobuf-3.19.1-cp37-cp37m-manylinux_2_17_x86_64.manylinux2014_x86_64.whl (1.1 MB)\n",
            "\u001b[K     |████████████████████████████████| 1.1 MB 38.5 MB/s \n",
            "\u001b[?25hCollecting absl-py>=0.13\n",
            "  Downloading absl_py-0.15.0-py3-none-any.whl (132 kB)\n",
            "\u001b[K     |████████████████████████████████| 132 kB 46.1 MB/s \n",
            "\u001b[?25hRequirement already satisfied: six in /usr/local/lib/python3.7/dist-packages (from absl-py>=0.13->ortools) (1.15.0)\n",
            "Installing collected packages: protobuf, absl-py, ortools\n",
            "  Attempting uninstall: protobuf\n",
            "    Found existing installation: protobuf 3.17.3\n",
            "    Uninstalling protobuf-3.17.3:\n",
            "      Successfully uninstalled protobuf-3.17.3\n",
            "  Attempting uninstall: absl-py\n",
            "    Found existing installation: absl-py 0.12.0\n",
            "    Uninstalling absl-py-0.12.0:\n",
            "      Successfully uninstalled absl-py-0.12.0\n",
            "\u001b[31mERROR: pip's dependency resolver does not currently take into account all the packages that are installed. This behaviour is the source of the following dependency conflicts.\n",
            "tensorflow-metadata 1.2.0 requires absl-py<0.13,>=0.9, but you have absl-py 0.15.0 which is incompatible.\u001b[0m\n",
            "Successfully installed absl-py-0.15.0 ortools-9.1.9490 protobuf-3.19.1\n"
          ]
        },
        {
          "output_type": "display_data",
          "data": {
            "application/vnd.colab-display-data+json": {
              "pip_warning": {
                "packages": [
                  "google"
                ]
              }
            }
          },
          "metadata": {}
        }
      ]
    },
    {
      "cell_type": "markdown",
      "metadata": {
        "id": "-a9AIr1Shnd4"
      },
      "source": [
        "### Análise do problema\n",
        "\n",
        "Dado um grafo orientado $(V,E)$, uma capacidade $C_e \\ge 0$ para cada arco $e \\in E$, um nodo $s$ correspondente à origem e um nodo $t$ correspondente ao destino, precisamos de uma variável $f_e$ do tipo real por cada arco $e \\in E$, que irá representar o fluxo efectivo nesse arco. Para encontrar o fluxo máximo entre $s$ e $t$ basta maximizar\n",
        "\n",
        "$$\n",
        "\\sum_{(s,v) \\in E} f_{(s,v)} - \\sum_{(v,s) \\in E} f_{(v,s)}\n",
        "$$\n",
        "\n",
        "ou seja, a soma do fluxos efectivos com origem em $s$ (alternativamente, poderia-se maximizar a soma dos fluxos efectivos com destino $t$), sujeito às seguintes restrições:\n",
        "- A capacidade de cada arco é respeitada\n",
        "- O fluxo que sai de cada nodo é igual ao que entra (exceptuando em $s$ e $t$)"
      ]
    },
    {
      "cell_type": "markdown",
      "metadata": {
        "id": "xcEy7DJZHCuX"
      },
      "source": [
        "### Exercício 1\n",
        "\n",
        "Formalize estas restrições."
      ]
    },
    {
      "cell_type": "markdown",
      "metadata": {
        "id": "KYS_IMN4HCuY"
      },
      "source": [
        "### Exercício 2\n",
        "\n",
        "Implemente a função `max_flow` que dado um grafo de fluxos, determina o fluxo máximo entre `s` e `t`, definindo também o atributo `flow` com o fluxo efectivo de cada arco necessário para atingir esse fluxo máximo. Em `networkx` pode usar o método `edges` para aceder aos arcos de um grafo, e os métodos `in_edges` e `out_edges` para aceder aos arcos de entrada e saída de um determinado vértice."
      ]
    },
    {
      "cell_type": "code",
      "metadata": {
        "id": "vE9U3hKuHCuY",
        "colab": {
          "base_uri": "https://localhost:8080/",
          "height": 134
        },
        "outputId": "147c248c-fa42-4c91-85d2-c58671a1b652"
      },
      "source": [
        "from ortools.linear_solver import pywraplp\n",
        "\n",
        "def max_flow(graph,s,t):\n",
        "    sol = pywraplp.Solver.CreateSolver('SCIP')\n",
        "    f = {}\n",
        "    for e in graph.edges():\n",
        "      (a,b)= e\n",
        "      f[e]=sol.NumVar(0,graph[a][b]['capacity'],str(e))\n",
        "    for v in graph:\n",
        "      if v !=s and v !=t:\n",
        "        sol.Add(sum(f[e] for e in graph.in_edges(v))== sum(f[e] for e in graph.out_edges(v)))\n",
        "      sol.Maximize(sum(f[e] for e in graph.out_edges(s))= sum(f[e] for e in graph.out_edges(s)))\n",
        "      assert (sol.Solve()== pywraplp.Solver.OPTIMAL)\n",
        "      return sol.Objective().Value()\n",
        "    \n",
        "    \n",
        "assert max_flow(graph,0,5) == 23\n",
        "draw_flow_network(graph)"
      ],
      "execution_count": null,
      "outputs": [
        {
          "output_type": "error",
          "ename": "SyntaxError",
          "evalue": "ignored",
          "traceback": [
            "\u001b[0;36m  File \u001b[0;32m\"<ipython-input-5-9e60975c8b0a>\"\u001b[0;36m, line \u001b[0;32m12\u001b[0m\n\u001b[0;31m    sol.Maximize(sum(f[e] for e in graph.out_edges(s))= sum(f[e] for e in graph.out_edges(s)))\u001b[0m\n\u001b[0m                ^\u001b[0m\n\u001b[0;31mSyntaxError\u001b[0m\u001b[0;31m:\u001b[0m keyword can't be an expression\n"
          ]
        }
      ]
    },
    {
      "cell_type": "markdown",
      "metadata": {
        "id": "D6qJDQFKHCuY"
      },
      "source": [
        "## Min-cut\n",
        "\n",
        "Um dos resultados fundamentais sobre grafos de fluxos, conforme https://en.wikipedia.org/wiki/Max-flow_min-cut_theorem, diz que o fluxo máximo entre dois vértices é igual à soma da capacidade dos arcos que estabelecem um *corte mínimo* entre esses vértices. Num grafo um *corte mínimo* é um conjunto de arcos que divide os nodos em dois conjuntos disjuntos satisfazendo algum critério de minimalidade. Neste caso estamos interessados em dividir o grafo em dois conjuntos $S$ e $T$ onde a origem $s \\in S$ e o destino $t \\in T$, minimizando a capacidade total dos arcos que pertecem ao corte, ou seja, a capacidade total dos arcos que ligam $S$ a $T$.\n",
        "\n",
        "### Análise do problema\n",
        "\n",
        "Dado um grafo orientado $(V,E)$, uma capacidade $C_e \\ge 0$ para cada arco $e \\in E$, um nodo $s$ correspondente à origem e um nodo $t$ correspondente ao destino, precisamos de uma variável binária $d_{(a,b)}$ por cada aresta $(a,b) \\in E$, que terá o valor 1 se a respectiva aresta pertencer ao corte entre $S$ e $T$ (ou seja, se $a \\in S$ e $b \\in T$), e de uma variável binária $x_v$ por cada vértice $v \\in V$, que terá o valor 1 se o respectivo vértice pertencer a $S$ (se o valor for 0 é porque $v \\in T$). Para encontrar o corte mínimo basta minimizar\n",
        "\n",
        "$$\n",
        "\\sum_{e \\in E} d_{e} \\cdot C_e\n",
        "$$\n",
        "\n",
        "sujeito às seguintes restrições:\n",
        "- O nodo $s$ pertence a $S$ e o nodo $t$ pertence a $T$\n",
        "- Uma aresta com origem em $S$ e destino em $T$ pertence ao corte"
      ]
    },
    {
      "cell_type": "markdown",
      "metadata": {
        "id": "B-Iq_rzGHCuZ"
      },
      "source": [
        "### Exercício 3\n",
        "\n",
        "Formalize estas restrições."
      ]
    },
    {
      "cell_type": "markdown",
      "metadata": {
        "id": "ZOQayPEcHCuZ"
      },
      "source": [
        "### Exercício 4\n",
        "\n",
        "Implemente a função `min_cut` que dado um grafo de fluxos determina o fluxo máximo entre `s` e `t`."
      ]
    },
    {
      "cell_type": "code",
      "metadata": {
        "id": "VA9NrrCUHCuZ",
        "colab": {
          "base_uri": "https://localhost:8080/",
          "height": 334
        },
        "outputId": "89df560f-bdf4-49af-8cb1-9c4eb70af326"
      },
      "source": [
        "def min_cut(graph,s,t):\n",
        "    sol = pywraplp.Solver.CreateSolver('SCIP')\n",
        "    x={}\n",
        "    for v in graph.nodes():\n",
        "      x[v]=sol.BoolVar(str(v))\n",
        "    d={}\n",
        "    for e in graph.edges():\n",
        "      d[e]= sol.BoolVar(str(e))\n",
        "    sol.Add(x[s]==1)\n",
        "    sol.Add(x[t]==0)\n",
        "    for(a,b) in graph.edges():\n",
        "      sol.Add(d[a,b]<=x[a])\n",
        "      sol.Add(d[a,b]<=1-x[b])\n",
        "      sol.Add(x[a]-x[b] <= d[a,b])\n",
        "      sol.Minimize(sum(d[a,b]* graph[a][b]['capacity']for (a,b) in graph.edges()))\n",
        "      assert (sol.Solve() == pywraplp.Solver.OPTIMAL)\n",
        "\n",
        "      return (sol.Objective().Value())\n",
        "    \n",
        "    \n",
        "\n",
        "assert min_cut(graph,0,5) == 23"
      ],
      "execution_count": null,
      "outputs": [
        {
          "output_type": "error",
          "ename": "NameError",
          "evalue": "ignored",
          "traceback": [
            "\u001b[0;31m---------------------------------------------------------------------------\u001b[0m",
            "\u001b[0;31mNameError\u001b[0m                                 Traceback (most recent call last)",
            "\u001b[0;32m<ipython-input-6-bef79bde6fa0>\u001b[0m in \u001b[0;36m<module>\u001b[0;34m()\u001b[0m\n\u001b[1;32m     20\u001b[0m \u001b[0;34m\u001b[0m\u001b[0m\n\u001b[1;32m     21\u001b[0m \u001b[0;34m\u001b[0m\u001b[0m\n\u001b[0;32m---> 22\u001b[0;31m \u001b[0;32massert\u001b[0m \u001b[0mmin_cut\u001b[0m\u001b[0;34m(\u001b[0m\u001b[0mgraph\u001b[0m\u001b[0;34m,\u001b[0m\u001b[0;36m0\u001b[0m\u001b[0;34m,\u001b[0m\u001b[0;36m5\u001b[0m\u001b[0;34m)\u001b[0m \u001b[0;34m==\u001b[0m \u001b[0;36m23\u001b[0m\u001b[0;34m\u001b[0m\u001b[0;34m\u001b[0m\u001b[0m\n\u001b[0m",
            "\u001b[0;32m<ipython-input-6-bef79bde6fa0>\u001b[0m in \u001b[0;36mmin_cut\u001b[0;34m(graph, s, t)\u001b[0m\n\u001b[1;32m      1\u001b[0m \u001b[0;32mdef\u001b[0m \u001b[0mmin_cut\u001b[0m\u001b[0;34m(\u001b[0m\u001b[0mgraph\u001b[0m\u001b[0;34m,\u001b[0m\u001b[0ms\u001b[0m\u001b[0;34m,\u001b[0m\u001b[0mt\u001b[0m\u001b[0;34m)\u001b[0m\u001b[0;34m:\u001b[0m\u001b[0;34m\u001b[0m\u001b[0;34m\u001b[0m\u001b[0m\n\u001b[0;32m----> 2\u001b[0;31m     \u001b[0msol\u001b[0m \u001b[0;34m=\u001b[0m \u001b[0mpywraplp\u001b[0m\u001b[0;34m.\u001b[0m\u001b[0mSolver\u001b[0m\u001b[0;34m.\u001b[0m\u001b[0mCreateSolver\u001b[0m\u001b[0;34m(\u001b[0m\u001b[0;34m'SCIP'\u001b[0m\u001b[0;34m)\u001b[0m\u001b[0;34m\u001b[0m\u001b[0;34m\u001b[0m\u001b[0m\n\u001b[0m\u001b[1;32m      3\u001b[0m     \u001b[0mx\u001b[0m\u001b[0;34m=\u001b[0m\u001b[0;34m{\u001b[0m\u001b[0;34m}\u001b[0m\u001b[0;34m\u001b[0m\u001b[0;34m\u001b[0m\u001b[0m\n\u001b[1;32m      4\u001b[0m     \u001b[0;32mfor\u001b[0m \u001b[0mv\u001b[0m \u001b[0;32min\u001b[0m \u001b[0mgraph\u001b[0m\u001b[0;34m.\u001b[0m\u001b[0mnodes\u001b[0m\u001b[0;34m(\u001b[0m\u001b[0;34m)\u001b[0m\u001b[0;34m:\u001b[0m\u001b[0;34m\u001b[0m\u001b[0;34m\u001b[0m\u001b[0m\n\u001b[1;32m      5\u001b[0m       \u001b[0mx\u001b[0m\u001b[0;34m[\u001b[0m\u001b[0mv\u001b[0m\u001b[0;34m]\u001b[0m\u001b[0;34m=\u001b[0m\u001b[0msol\u001b[0m\u001b[0;34m.\u001b[0m\u001b[0mBoolVar\u001b[0m\u001b[0;34m(\u001b[0m\u001b[0mstr\u001b[0m\u001b[0;34m(\u001b[0m\u001b[0mv\u001b[0m\u001b[0;34m)\u001b[0m\u001b[0;34m)\u001b[0m\u001b[0;34m\u001b[0m\u001b[0;34m\u001b[0m\u001b[0m\n",
            "\u001b[0;31mNameError\u001b[0m: name 'pywraplp' is not defined"
          ]
        }
      ]
    },
    {
      "cell_type": "markdown",
      "metadata": {
        "id": "miA5fOZCHCuZ"
      },
      "source": [
        "## Outros problemas de corte mínimo\n",
        "\n",
        "Outro problema relacionado com o corte mínimo consiste em determinar, para um grafo orientado e dois nodos $s$ e $t$ desse grafo, o número mínimo de arcos que é necessário retirar para que $t$ deixe de ser acessível a partir de $s$.\n",
        "\n",
        "Uma forma directa de resolver este problema consiste em começar por determinar todos os caminhos (sem ciclos) entre $s$ e $t$ e depois determinar o conjunto mínimo de arestas que intersecta todos esses caminhos."
      ]
    },
    {
      "cell_type": "markdown",
      "metadata": {
        "id": "Izmp2b4bHCua"
      },
      "source": [
        "### Exercício 5\n",
        "\n",
        "Formalize este problema usando programação inteira. Assuma que dado um grafo $(V,E)$ e os nodos $s$ e $t$, $P$ é o conjunto de todos os caminhos (sem ciclos) entre $s$ e $t$, onde cada caminho é representado pelo conjunto dos arcos que lhe pertencem."
      ]
    },
    {
      "cell_type": "markdown",
      "metadata": {
        "id": "AgeL1ytKHCua"
      },
      "source": [
        "### Exercício 6\n",
        "\n",
        "Implemente a função `disconnect_all_paths` que dado um grafo `graph` e os nodos `s` e `t` devolve a lista de arestas a remover para que `t` deixe de ser acessível a partir de `s`. Pode usar a função `all_simple_paths` do `networkx` para determinar todos os caminhos sem ciclos entre dois vértices."
      ]
    },
    {
      "cell_type": "code",
      "metadata": {
        "id": "2xpIdzVrHCua",
        "colab": {
          "base_uri": "https://localhost:8080/",
          "height": 334
        },
        "outputId": "658cbbf0-0b7b-4a03-ed9c-357d3081a3c0"
      },
      "source": [
        "def arestas(p):\n",
        "  return [((p[i],p[i+1])for)for i in range(len(p)-1)]\n",
        "\n",
        "def disconnect_all_paths(graph,s,t):\n",
        "    sol = pywraplp.Solver.CreateSolver('SCIP')\n",
        "    d={}\n",
        "    for e in graph.edges():\n",
        "      d[e] = sol.BoolVar(str(e))\n",
        "    x = {}\n",
        "    ps =  in nx.all_simple_paths(graph,s,t)\n",
        "    for i in range(len(ps)):\n",
        "      x[i] = sol.BoolVar(str(i))\n",
        "      for e in arestas(ps[i]):\n",
        "        sol.Add(d[e]>=x[i])\n",
        "      sol.Add(sum(d[e] for e in arestas(ps[i])<= x[i] + len(arestas(ps[i])))-1)\n",
        "    sol.Add(sum(x.Values())==0)\n",
        "    sol.Maximize(sum(d.values()))\n",
        "    assert(sol.Solve()== pywraplp.Solver.OPTIMAL)\n",
        "    return [e for e in graph.edges() if round(d[e].solution_value())==0]\n",
        "     # print(p)\n",
        "\n",
        "disconnect_all_paths(graph,0,5)"
      ],
      "execution_count": null,
      "outputs": [
        {
          "output_type": "error",
          "ename": "NameError",
          "evalue": "ignored",
          "traceback": [
            "\u001b[0;31m---------------------------------------------------------------------------\u001b[0m",
            "\u001b[0;31mNameError\u001b[0m                                 Traceback (most recent call last)",
            "\u001b[0;32m<ipython-input-8-3d4058318388>\u001b[0m in \u001b[0;36m<module>\u001b[0;34m()\u001b[0m\n\u001b[1;32m      7\u001b[0m       \u001b[0mprint\u001b[0m\u001b[0;34m(\u001b[0m\u001b[0mp\u001b[0m\u001b[0;34m)\u001b[0m\u001b[0;34m\u001b[0m\u001b[0;34m\u001b[0m\u001b[0m\n\u001b[1;32m      8\u001b[0m \u001b[0;34m\u001b[0m\u001b[0m\n\u001b[0;32m----> 9\u001b[0;31m \u001b[0mdisconnect_all_paths\u001b[0m\u001b[0;34m(\u001b[0m\u001b[0mgraph\u001b[0m\u001b[0;34m,\u001b[0m\u001b[0;36m0\u001b[0m\u001b[0;34m,\u001b[0m\u001b[0;36m5\u001b[0m\u001b[0;34m)\u001b[0m\u001b[0;34m\u001b[0m\u001b[0;34m\u001b[0m\u001b[0m\n\u001b[0m",
            "\u001b[0;32m<ipython-input-8-3d4058318388>\u001b[0m in \u001b[0;36mdisconnect_all_paths\u001b[0;34m(graph, s, t)\u001b[0m\n\u001b[1;32m      1\u001b[0m \u001b[0;32mdef\u001b[0m \u001b[0mdisconnect_all_paths\u001b[0m\u001b[0;34m(\u001b[0m\u001b[0mgraph\u001b[0m\u001b[0;34m,\u001b[0m\u001b[0ms\u001b[0m\u001b[0;34m,\u001b[0m\u001b[0mt\u001b[0m\u001b[0;34m)\u001b[0m\u001b[0;34m:\u001b[0m\u001b[0;34m\u001b[0m\u001b[0;34m\u001b[0m\u001b[0m\n\u001b[0;32m----> 2\u001b[0;31m     \u001b[0msol\u001b[0m \u001b[0;34m=\u001b[0m \u001b[0mpywraplp\u001b[0m\u001b[0;34m.\u001b[0m\u001b[0mSolver\u001b[0m\u001b[0;34m.\u001b[0m\u001b[0mCreateSolver\u001b[0m\u001b[0;34m(\u001b[0m\u001b[0;34m'SCIP'\u001b[0m\u001b[0;34m)\u001b[0m\u001b[0;34m\u001b[0m\u001b[0;34m\u001b[0m\u001b[0m\n\u001b[0m\u001b[1;32m      3\u001b[0m     \u001b[0md\u001b[0m\u001b[0;34m=\u001b[0m\u001b[0;34m{\u001b[0m\u001b[0;34m}\u001b[0m\u001b[0;34m\u001b[0m\u001b[0;34m\u001b[0m\u001b[0m\n\u001b[1;32m      4\u001b[0m     \u001b[0;32mfor\u001b[0m \u001b[0me\u001b[0m \u001b[0;32min\u001b[0m \u001b[0mgraph\u001b[0m\u001b[0;34m.\u001b[0m\u001b[0medges\u001b[0m\u001b[0;34m(\u001b[0m\u001b[0;34m)\u001b[0m\u001b[0;34m:\u001b[0m\u001b[0;34m\u001b[0m\u001b[0;34m\u001b[0m\u001b[0m\n\u001b[1;32m      5\u001b[0m       \u001b[0md\u001b[0m\u001b[0;34m[\u001b[0m\u001b[0me\u001b[0m\u001b[0;34m]\u001b[0m \u001b[0;34m=\u001b[0m \u001b[0msol\u001b[0m\u001b[0;34m.\u001b[0m\u001b[0mBoolVar\u001b[0m\u001b[0;34m(\u001b[0m\u001b[0mstr\u001b[0m\u001b[0;34m(\u001b[0m\u001b[0me\u001b[0m\u001b[0;34m)\u001b[0m\u001b[0;34m)\u001b[0m\u001b[0;34m\u001b[0m\u001b[0;34m\u001b[0m\u001b[0m\n",
            "\u001b[0;31mNameError\u001b[0m: name 'pywraplp' is not defined"
          ]
        }
      ]
    },
    {
      "cell_type": "markdown",
      "metadata": {
        "id": "emtXNPVxHCua"
      },
      "source": [
        "### Exercício 7\n",
        "\n",
        "Também é possível reduzir este problema ao problema do corte mínimo em grafos de fluxos assumindo simplesmente que a capacidade  dos arcos é 1.\n",
        "\n",
        "Implemente a função `disconnect_min_cut` que dado um grafo `graph` e os nodos `s` e `t` devolve a lista de arestas a remover para que `t` deixe de ser acessível a partir de `s` usando esta técnica."
      ]
    },
    {
      "cell_type": "code",
      "metadata": {
        "id": "3EHcShzsHCub"
      },
      "source": [
        "def disconnect_min_cut(graph,s,t):\n",
        "    sol = pywraplp.Solver.CreateSolver('SCIP')\n",
        "    # completar\n",
        "\n",
        "    \n",
        "disconnect_min_cut(graph,0,5)"
      ],
      "execution_count": null,
      "outputs": []
    },
    {
      "cell_type": "markdown",
      "metadata": {
        "id": "s93s19QJHCub"
      },
      "source": [
        "### Exercício 8\n",
        "\n",
        "Usando análise empírica da complexidade, compare a eficiência destas duas técnicas."
      ]
    },
    {
      "cell_type": "code",
      "metadata": {
        "id": "gfB9r9LZHCub"
      },
      "source": [
        "from timeit import timeit"
      ],
      "execution_count": null,
      "outputs": []
    },
    {
      "cell_type": "code",
      "metadata": {
        "id": "B6nMnytP28YU"
      },
      "source": [
        ""
      ],
      "execution_count": null,
      "outputs": []
    }
  ]
}