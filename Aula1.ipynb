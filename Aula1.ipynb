{
  "nbformat": 4,
  "nbformat_minor": 0,
  "metadata": {
    "kernelspec": {
      "display_name": "Python 3",
      "language": "python",
      "name": "python3"
    },
    "language_info": {
      "codemirror_mode": {
        "name": "ipython",
        "version": 3
      },
      "file_extension": ".py",
      "mimetype": "text/x-python",
      "name": "python",
      "nbconvert_exporter": "python",
      "pygments_lexer": "ipython3",
      "version": "3.8.8"
    },
    "colab": {
      "name": "Aula1.ipynb",
      "provenance": [],
      "collapsed_sections": [],
      "include_colab_link": true
    }
  },
  "cells": [
    {
      "cell_type": "markdown",
      "metadata": {
        "id": "view-in-github",
        "colab_type": "text"
      },
      "source": [
        "<a href=\"https://colab.research.google.com/github/P-Faria/LComp-TP/blob/main/Aula1.ipynb\" target=\"_parent\"><img src=\"https://colab.research.google.com/assets/colab-badge.svg\" alt=\"Open In Colab\"/></a>"
      ]
    },
    {
      "cell_type": "markdown",
      "metadata": {
        "id": "D7_zhXGkVn0i"
      },
      "source": [
        "# Revisões de Python e grafos"
      ]
    },
    {
      "cell_type": "markdown",
      "metadata": {
        "id": "5NR1U4lgVn0m"
      },
      "source": [
        "Um grafo *orientado* e *não pesado* é um par $(V,E)$ onde $V$ é um conjunto finito de vértices e $E$ uma relação binária em $V$, o conjunto de *arcos* ou *arestas* do grafo.\n",
        "\n",
        "Um grafo *não pesado* pode ser representado usando *listas de adjacências*. Em Python é\n",
        "possível implementar as ditas usando um dicionário de listas, onde a cada vértice temos associada a sua lista\n",
        "de adjacentes (vértices directamente ligados através de uma aresta).\n",
        "\n",
        "Se o grafo for também *não orientado* bastará desdobrar cada aresta em duas adjacências.\n",
        "\n",
        "Por exemplo, o grafo\n",
        "\n",
        "<img src=\"https://upload.wikimedia.org/wikipedia/commons/thumb/5/5b/6n-graf.svg/320px-6n-graf.svg.png\" width=200/>\n",
        "\n",
        "\n",
        "pode ser armazenado no dicionário `adj` da seguinte forma."
      ]
    },
    {
      "cell_type": "code",
      "metadata": {
        "id": "NgpIRidlVn0m"
      },
      "source": [
        "adj = {1:[2,5],2:[1,3,5],3:[2,4],4:[3,5,6],5:[1,2,4],6:[4]}"
      ],
      "execution_count": 2,
      "outputs": []
    },
    {
      "cell_type": "markdown",
      "metadata": {
        "id": "jRwE5VuvVn0o"
      },
      "source": [
        "### Exercício 1\n",
        "Defina uma função `count_edges` que conta o número de arestas de um grafo representado desta forma."
      ]
    },
    {
      "cell_type": "code",
      "metadata": {
        "id": "rdMHG1QCVn0o",
        "outputId": "66a00b86-713b-48a8-db3c-74d4b1c84c02",
        "colab": {
          "base_uri": "https://localhost:8080/"
        }
      },
      "source": [
        "def count_edges(g):\n",
        "    r=0\n",
        "    for v in g:\n",
        "      r+=len(g[v])\n",
        "    return r//2\n",
        "\n",
        "count_edges(adj)"
      ],
      "execution_count": 3,
      "outputs": [
        {
          "output_type": "execute_result",
          "data": {
            "text/plain": [
              "7"
            ]
          },
          "metadata": {},
          "execution_count": 3
        }
      ]
    },
    {
      "cell_type": "markdown",
      "metadata": {
        "id": "QwNw1eaGVn0r"
      },
      "source": [
        "Existem muitos algoritmos para analisar grafos. Um exemplo, é o seguinte algoritmo que calcula a *distância* entre\n",
        "cada par de vértices de um grafo *não pesado*. A distância entre dois vértices é o comprimento do caminho mais curto\n",
        "entre eles. A função `all_pairs_shortest_paths` devolve todas as distâncias usando um dicionário de dicionários de \n",
        "distâncias (no fundo uma matriz de distâncias)."
      ]
    },
    {
      "cell_type": "code",
      "metadata": {
        "id": "VdvPutluVn0r",
        "outputId": "7b903e41-6e3a-4028-ebd2-33cf66954dc3",
        "colab": {
          "base_uri": "https://localhost:8080/"
        }
      },
      "source": [
        "def all_pairs_shortest_paths(adj):\n",
        "    dist = {}\n",
        "    for o in adj:\n",
        "        dist[o] = {}\n",
        "        for d in adj:\n",
        "            if o == d:\n",
        "                dist[o][d] = 0\n",
        "            else:\n",
        "                dist[o][d] = float(\"inf\")\n",
        "        for d in adj[o]:\n",
        "                dist[o][d] = 1\n",
        "    for k in adj:\n",
        "        for o in adj:\n",
        "            for d in adj:\n",
        "                if dist[o][d] > dist[o][k] + dist[k][d]:\n",
        "                    dist[o][d] = dist[o][k] + dist[k][d]\n",
        "    return dist\n",
        "\n",
        "all_pairs_shortest_paths(adj)"
      ],
      "execution_count": 4,
      "outputs": [
        {
          "output_type": "execute_result",
          "data": {
            "text/plain": [
              "{1: {1: 0, 2: 1, 3: 2, 4: 2, 5: 1, 6: 3},\n",
              " 2: {1: 1, 2: 0, 3: 1, 4: 2, 5: 1, 6: 3},\n",
              " 3: {1: 2, 2: 1, 3: 0, 4: 1, 5: 2, 6: 2},\n",
              " 4: {1: 2, 2: 2, 3: 1, 4: 0, 5: 1, 6: 1},\n",
              " 5: {1: 1, 2: 1, 3: 2, 4: 1, 5: 0, 6: 2},\n",
              " 6: {1: 3, 2: 3, 3: 2, 4: 1, 5: 2, 6: 0}}"
            ]
          },
          "metadata": {},
          "execution_count": 4
        }
      ]
    },
    {
      "cell_type": "markdown",
      "metadata": {
        "id": "sLJ5tbaSVn0r"
      },
      "source": [
        "### Exercício 2\n",
        "O *diâmetro* de um grafo é a distância entre os seus vértices mais afastados. Defina a função `diameter` que calcula o\n",
        "diâmetro de um grafo, tirando proveito da função `all_pairs_shortest_paths`."
      ]
    },
    {
      "cell_type": "code",
      "metadata": {
        "id": "aXralXR5Vn0r",
        "outputId": "8859c7c5-f1c8-4373-fc03-d8d38656676c",
        "colab": {
          "base_uri": "https://localhost:8080/"
        }
      },
      "source": [
        "def diameter(adj):\n",
        "    d = all_pairs_shortest_paths(adj)\n",
        "    r=0\n",
        "    for s in d:\n",
        "      for t in d[s]:\n",
        "        r=max(r,d[s][t])\n",
        "    return r\n",
        "    \n",
        "diameter(adj)"
      ],
      "execution_count": 8,
      "outputs": [
        {
          "output_type": "execute_result",
          "data": {
            "text/plain": [
              "3"
            ]
          },
          "metadata": {},
          "execution_count": 8
        }
      ]
    },
    {
      "cell_type": "markdown",
      "metadata": {
        "id": "af2PpnR6Vn0s"
      },
      "source": [
        "## Biblioteca `NetworkX` para manipulação de grafos."
      ]
    },
    {
      "cell_type": "markdown",
      "metadata": {
        "id": "dx6PEfQ5Vn0t"
      },
      "source": [
        "A biblioteca `NetworkX` diponibiliza implementações de vários tipos de grafos e de muitos algoritmos para os analisar e visualizar. Para importar esta biblioteca de forma qualificada faz-se o seguinte."
      ]
    },
    {
      "cell_type": "code",
      "metadata": {
        "id": "EGCm9LmjVn0t"
      },
      "source": [
        "import networkx as nx"
      ],
      "execution_count": 5,
      "outputs": []
    },
    {
      "cell_type": "markdown",
      "metadata": {
        "id": "sAkv1mJ7Vn0t"
      },
      "source": [
        "O tutorial desta biblioteca pode ser encontrado em https://networkx.github.io/documentation/stable/tutorial.html."
      ]
    },
    {
      "cell_type": "markdown",
      "metadata": {
        "id": "pDYtQOfzVn0t"
      },
      "source": [
        "### Exercício 3\n",
        "Implemente uma função `converte` que converte um grafo implementando com  dicionários do python para um grafo do `NetworkX`."
      ]
    },
    {
      "cell_type": "code",
      "metadata": {
        "id": "OdkmyDujVn0u",
        "outputId": "3af0e2b9-683b-4a44-a57c-6645bdcd59c6",
        "colab": {
          "base_uri": "https://localhost:8080/"
        }
      },
      "source": [
        "def converte(adj):\n",
        "    g=nx.Graph()\n",
        "    for v in adj:\n",
        "      g.add_node(v)\n",
        "      for u in adj[v]:\n",
        "        g.add_edge(v,u)\n",
        "    return g\n",
        "\n",
        "graph = converte(adj)\n",
        "nx.to_dict_of_lists(graph) # converte o grafo para um dicionário de listas"
      ],
      "execution_count": 9,
      "outputs": [
        {
          "output_type": "execute_result",
          "data": {
            "text/plain": [
              "{1: [2, 5], 2: [1, 3, 5], 3: [2, 4], 4: [3, 5, 6], 5: [1, 2, 4], 6: [4]}"
            ]
          },
          "metadata": {},
          "execution_count": 9
        }
      ]
    },
    {
      "cell_type": "markdown",
      "metadata": {
        "id": "QuOPwGJkVn0u"
      },
      "source": [
        "Como referido acima, a vantagem de usar a biblioteca `NetworkX` é que os algoritmos de análise mais usais estão todos já implementados. Por exemplo, para calcular o diâmetro do grafo exemplo basta fazer o seguinte."
      ]
    },
    {
      "cell_type": "code",
      "metadata": {
        "id": "oTFMpUDLVn0v",
        "outputId": "972d6f5b-5d6f-4dfa-b18f-2638f3498706",
        "colab": {
          "base_uri": "https://localhost:8080/"
        }
      },
      "source": [
        "nx.diameter(graph)"
      ],
      "execution_count": 10,
      "outputs": [
        {
          "output_type": "execute_result",
          "data": {
            "text/plain": [
              "3"
            ]
          },
          "metadata": {},
          "execution_count": 10
        }
      ]
    },
    {
      "cell_type": "markdown",
      "metadata": {
        "id": "98uwF5QdVn0v"
      },
      "source": [
        "### Exercício 4\n",
        "Utilize a biblioteca `NetworkX` para desenhar o grafo exemplo, conforme explicado em https://networkx.github.io/documentation/stable/tutorial.html#drawing-graphs."
      ]
    },
    {
      "cell_type": "code",
      "metadata": {
        "id": "3MQhytEqVn0v",
        "outputId": "991866a9-8f28-4acd-f2cc-338300981ee8",
        "colab": {
          "base_uri": "https://localhost:8080/",
          "height": 248
        }
      },
      "source": [
        "import matplotlib.pyplot as plt\n",
        "\n",
        "G=converte(adj)\n",
        "subax1 = plt.subplot(121)\n",
        "\n",
        "nx.draw(G, with_labels=True, font_weight='bold')\n",
        "\n",
        "subax2 = plt.subplot(122)\n",
        "\n",
        "nx.draw_shell(G, nlist=[range(5, 10), range(5)], with_labels=True, font_weight='bold')"
      ],
      "execution_count": 11,
      "outputs": [
        {
          "output_type": "display_data",
          "data": {
            "image/png": "[encoded data removed]",
            "text/plain": [
              "<Figure size 432x288 with 2 Axes>"
            ]
          },
          "metadata": {}
        }
      ]
    },
    {
      "cell_type": "markdown",
      "metadata": {
        "id": "ZrR5_BdpVn0w"
      },
      "source": [
        "### Exercício 5\n",
        "A biblioteca `NetworkX` disponibiliza também vários geradores de grafos pré-definidos, coforme documentação em https://networkx.github.io/documentation/stable/reference/generators.html.\n",
        "    Use esses geradores para criar um grafo degenerado que é um ciclo com 100 vértices. \n",
        "    Desenhe esse grafo e calcule o seu diâmetro \n",
        "    (que deverá ser 50)."
      ]
    },
    {
      "cell_type": "code",
      "metadata": {
        "id": "p1U5kpKHVn0w",
        "outputId": "d70519f5-ddef-4b58-d4c0-958190924bd3",
        "colab": {
          "base_uri": "https://localhost:8080/",
          "height": 319
        }
      },
      "source": [
        "ciclo = nx.cycle_graph(100)\n",
        "nx.draw(ciclo,pos=nx.circular_layout(ciclo))\n"
      ],
      "execution_count": 14,
      "outputs": [
        {
          "output_type": "display_data",
          "data": {
            "image/png": "[encoded data removed]",
            "text/plain": [
              "<Figure size 432x288 with 1 Axes>"
            ]
          },
          "metadata": {}
        }
      ]
    },
    {
      "cell_type": "markdown",
      "metadata": {
        "id": "z-VjWU8ZaxTj"
      },
      "source": [
        "## Representação de circuitos com bi-grafos"
      ]
    },
    {
      "cell_type": "markdown",
      "metadata": {
        "id": "9TcasUQ7b1cM"
      },
      "source": [
        "Um circuito booleano pode ser representado por um bi-grafo (i.e., um grafo bipartido com dois tipos de nodos, em que os arcos só podem ligar nodos de tipos diferentes), orientado e acíclico. \n",
        "Neste caso temos nodos do tipo *gate* e nodos do tipo *wire*.\n",
        "Cada *gate* tem grau de saida igual a 1, e cada *wire* tem grau de entrada menor ou igual a 1. Os *inputs* são os nodos do tipo *wire* de grau de entrada 0. Os\n",
        "*outputs* são os nodos do tipo *wire* de grau de saída 0.\n"
      ]
    },
    {
      "cell_type": "markdown",
      "metadata": {
        "id": "5jrHIonWgwLw"
      },
      "source": [
        "Por exemplo, o seguinte circuito booleano com 2 *inputs* e 1 *output* tem uma *gate* NOR e uma *gate* AND e calcula a expressão $Q = A \\wedge \\neg (A \\vee B)$.\n",
        "\n",
        "<img src=\"https://upload.wikimedia.org/wikipedia/commons/thumb/2/22/CPT-logic-gate_ex4.svg/291px-CPT-logic-gate_ex4.svg.png\"/>"
      ]
    },
    {
      "cell_type": "markdown",
      "metadata": {
        "id": "jsMYQujzsIOs"
      },
      "source": [
        "Para representar este circuito com um grafo `NetworkX` podemos começar por criar um grafo orientado com o método ``DiGraph``, criar um nó por cada *wire* e por cada *gate* , e distinguir estes últimos usando um atributo que indica qual o tipo de *gate*. Note que para o circuito acima será necessário criar um nó para o fio que liga a *gate* NOR à *gate* AND. O código seguinte implementa esta ideia."
      ]
    },
    {
      "cell_type": "code",
      "metadata": {
        "id": "SxeMiuA_Vn0w",
        "outputId": "1487056d-edd3-42c5-fa08-7f9974339186",
        "colab": {
          "base_uri": "https://localhost:8080/",
          "height": 319
        }
      },
      "source": [
        "circuit = nx.DiGraph()\n",
        "circuit.add_node(\"A\")\n",
        "circuit.add_node(\"B\")\n",
        "circuit.add_node(\"Q\")\n",
        "circuit.add_node(\"X\")\n",
        "circuit.add_node(\"f\",gate=\"AND\")\n",
        "circuit.add_node(\"g\",gate=\"NOR\")\n",
        "circuit.add_edge(\"A\",\"g\")\n",
        "circuit.add_edge(\"A\",\"f\")\n",
        "circuit.add_edge(\"B\",\"g\")\n",
        "circuit.add_edge(\"g\",\"X\")\n",
        "circuit.add_edge(\"X\",\"f\")\n",
        "circuit.add_edge(\"f\",\"Q\")\n",
        "nx.draw(circuit,with_labels=True,node_size=1000)"
      ],
      "execution_count": 17,
      "outputs": [
        {
          "output_type": "display_data",
          "data": {
            "image/png": "[encoded data removed]",
            "text/plain": [
              "<Figure size 432x288 with 1 Axes>"
            ]
          },
          "metadata": {}
        }
      ]
    },
    {
      "cell_type": "markdown",
      "metadata": {
        "id": "H_i_QbORABss"
      },
      "source": [
        "### Exercício 6\n",
        "\n",
        "Defina a função `inputs` que, dado um circuito representado como um `DiGraph` usando a convenção acima, devolve uma lista com todos os fios que são input do mesmo (as *sources* do grafo, nós sem arestas de entrada). Note que pode usar a expressão ``g.nodes[n]`` para aceder ao dicionário de atributos do nó ``n`` do grafo ``g``."
      ]
    },
    {
      "cell_type": "code",
      "metadata": {
        "id": "yDu6ZEQjlANr",
        "outputId": "8bc237ff-d93d-4ac8-d2d5-0e808acf72bb",
        "colab": {
          "base_uri": "https://localhost:8080/"
        }
      },
      "source": [
        "def inputs(circ):\n",
        "  return [v for v in circ if 'gate' not in circ.nodes[v] and circ.in_degree(v)==0]\n",
        "\n",
        "inputs(circuit)"
      ],
      "execution_count": 22,
      "outputs": [
        {
          "output_type": "execute_result",
          "data": {
            "text/plain": [
              "['A', 'B']"
            ]
          },
          "metadata": {},
          "execution_count": 22
        }
      ]
    },
    {
      "cell_type": "markdown",
      "metadata": {
        "id": "wRvB90HM8f69"
      },
      "source": [
        "---\n",
        "g.in_edges(v) => lista de vertices que  chegam a v\n",
        "\n",
        "g.in_degree(v) => apagou\n",
        "\n",
        "---\n"
      ]
    },
    {
      "cell_type": "markdown",
      "metadata": {
        "id": "YbI2ZWUdBFlH"
      },
      "source": [
        "### Exercício 7\n",
        "\n",
        "Defina a função `desenha` que desenha um circuito representado como um `DiGraph` usando a convenção acima. Tente desenhar os nós correspondentes aos *wires* com uma cor diferente dos das *gates*, e no caso destas tente também identificar qual é a gate."
      ]
    },
    {
      "cell_type": "code",
      "metadata": {
        "id": "Pc8FvQRgj1HI"
      },
      "source": [
        "def desenha(circ):\n",
        "  nx.draw(circ,with_labels=True,labels=)\n",
        "\n",
        "desenha(circuit)"
      ],
      "execution_count": null,
      "outputs": []
    },
    {
      "cell_type": "markdown",
      "metadata": {
        "id": "mruVHeLpBID6"
      },
      "source": [
        "### Exercício 8\n",
        "\n",
        "Defina a função `valida` que testa se um `DiGraph` é um circuito válido, nomeadamente:\n",
        "- Tem que ser bipartido\n",
        "- Tem que ser um acíclico\n",
        "- Todas as *gates* têm exactamente uma saída\n",
        "- Todos os *wires* têm no máximo uma entrada"
      ]
    },
    {
      "cell_type": "code",
      "metadata": {
        "id": "pNmsplf5-alC"
      },
      "source": [
        "def valida(circ):\n",
        "  # completar\n",
        "\n",
        "valida(circuit)"
      ],
      "execution_count": null,
      "outputs": []
    }
  ]
}